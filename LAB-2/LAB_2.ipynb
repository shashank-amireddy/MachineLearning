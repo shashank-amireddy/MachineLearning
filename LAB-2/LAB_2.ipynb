{
 "cells": [
  {
   "cell_type": "code",
   "execution_count": 32,
   "id": "36092b37-182a-421a-928c-4985ee511bd7",
   "metadata": {},
   "outputs": [
    {
     "name": "stdout",
     "output_type": "stream",
     "text": [
      "  Customer  Candies (#)  Mangoes (Kg)  Milk Packets (#)  Payment (Rs)\n",
      "0      C_1           20             6                 2           386\n",
      "1      C_2           16             3                 6           289\n",
      "2      C_3           27             6                 2           393\n",
      "3      C_4           19             1                 2           110\n",
      "4      C_5           24             4                 2           280\n",
      "5      C_6           22             1                 5           167\n",
      "6      C_7           15             4                 2           271\n",
      "7      C_8           18             4                 2           274\n",
      "8      C_9           21             1                 4           148\n",
      "9     C_10           16             2                 4           198\n",
      "dimentionality of dataset is: (10, 5)\n",
      "number of vectors is : 10\n",
      "Matrix A:\n",
      " [[20  6  2]\n",
      " [16  3  6]\n",
      " [27  6  2]\n",
      " [19  1  2]\n",
      " [24  4  2]\n",
      " [22  1  5]\n",
      " [15  4  2]\n",
      " [18  4  2]\n",
      " [21  1  4]\n",
      " [16  2  4]]\n",
      "rank of matrix A is  3\n",
      "Matrix C:\n",
      " [386 289 393 110 280 167 271 274 148 198]\n",
      "Inverse of A:\n",
      " [[-0.01008596 -0.03124505  0.01013951  0.0290728   0.0182907   0.01161794\n",
      "  -0.00771348  0.00095458  0.01743623 -0.00542016]\n",
      " [ 0.09059668  0.07263726  0.03172933 -0.09071908 -0.01893196 -0.06926996\n",
      "   0.05675464  0.03152577 -0.07641966  0.00357352]\n",
      " [ 0.00299878  0.15874243 -0.05795468 -0.06609024 -0.06295043  0.03348017\n",
      "   0.01541831 -0.01070461  0.00029003  0.05938755]]\n",
      "Matrix X:\n",
      " [ 1. 55. 18.]\n",
      "  Customer  Candies (#)  Mangoes (Kg)  Milk Packets (#)  Payment (Rs) RICH/POOR\n",
      "0      C_1           20             6                 2           386      RICH\n",
      "1      C_2           16             3                 6           289      RICH\n",
      "2      C_3           27             6                 2           393      RICH\n",
      "3      C_4           19             1                 2           110      POOR\n",
      "4      C_5           24             4                 2           280      RICH\n",
      "5      C_6           22             1                 5           167      POOR\n",
      "6      C_7           15             4                 2           271      RICH\n",
      "7      C_8           18             4                 2           274      RICH\n",
      "8      C_9           21             1                 4           148      POOR\n",
      "9     C_10           16             2                 4           198      POOR\n"
     ]
    }
   ],
   "source": [
    "'''\n",
    "A1 Please refer to the “Purchase Data” worksheet of Lab Session Data.xlsx. Please load the data\n",
    "and segregate them into 2 matrices A & C (following the nomenclature of AX = C). Do the following\n",
    "activities.\n",
    "\n",
    "A2. Use the Pseudo-inverse to calculate the model vector X for predicting the cost of the products\n",
    "available with the vendor.\n",
    "\n",
    "A3. Mark all customers (in “Purchase Data” table) with payments above Rs. 200 as RICH and others\n",
    "as POOR. Develop a classifier model to categorize customers into RICH or POOR class based on\n",
    "purchase behavior.\n",
    "'''\n",
    "\n",
    "import pandas as pd\n",
    "import numpy as np\n",
    "df = pd.read_csv('purchase.csv')\n",
    "\n",
    "print(df.to_string()) \n",
    "A = df[['Candies (#)','Mangoes (Kg)','Milk Packets (#)']]\n",
    "dim=df.to_numpy().shape\n",
    "print(\"dimentionality of dataset is:\",dim)\n",
    "print(\"number of vectors is :\",dim[0])\n",
    "matA = A.values\n",
    "C= df['Payment (Rs)']\n",
    "matC=C.values\n",
    "print(\"Matrix A:\\n\", matA)\n",
    "rank = np.linalg.matrix_rank(matA)\n",
    "print(\"rank of matrix A is \", rank)\n",
    "print(\"Matrix C:\\n\", matC)\n",
    "invA=np.linalg.pinv(matA)\n",
    "print(\"Inverse of A:\\n\", invA)\n",
    "res = np.dot(invA,matC)\n",
    "print(\"Matrix X:\\n\",res)\n",
    "\n",
    "df['RICH/POOR'] = df['Payment (Rs)'].apply(lambda x: 'RICH' if x > 200 else 'POOR')\n",
    "print(df.to_string())"
   ]
  },
  {
   "cell_type": "code",
   "execution_count": 37,
   "id": "9904c0cc-8c3d-4ab3-9306-4418f07b45c9",
   "metadata": {},
   "outputs": [
    {
     "name": "stdout",
     "output_type": "stream",
     "text": [
      "             Date Month  Day     Price      Open      High       Low   Volume  \\\n",
      "0    Jun 29, 2021   Jun  Tue  2,081.85  2,092.00  2,126.90  2,065.05    1.67M   \n",
      "1    Jun 28, 2021   Jun  Mon  2,077.75  2,084.00  2,112.45  2,068.40  707.73K   \n",
      "2    Jun 25, 2021   Jun  Fri  2,068.85  2,084.35  2,088.50  2,053.10  475.82K   \n",
      "3    Jun 24, 2021   Jun  Thu  2,072.95  2,098.00  2,098.00  2,066.00  541.51K   \n",
      "4    Jun 23, 2021   Jun  Wed  2,078.25  2,102.00  2,111.40  2,072.00  809.62K   \n",
      "..            ...   ...  ...       ...       ...       ...       ...      ...   \n",
      "244  Jul 07, 2020   Jul  Tue  1,397.40  1,410.00  1,411.00  1,390.05  480.21K   \n",
      "245  Jul 06, 2020   Jul  Mon  1,400.75  1,405.50  1,415.50  1,394.00  614.93K   \n",
      "246  Jul 03, 2020   Jul  Fri  1,405.10  1,415.00  1,425.00  1,398.00  599.49K   \n",
      "247  Jul 02, 2020   Jul  Thu  1,412.35  1,440.00  1,467.80  1,395.30    2.16M   \n",
      "248  Jul 01, 2020   Jul  Wed  1,363.05  1,363.65  1,377.00  1,356.00  383.00K   \n",
      "\n",
      "       Chg%  \n",
      "0     0.20%  \n",
      "1     0.43%  \n",
      "2    -0.20%  \n",
      "3    -0.26%  \n",
      "4    -0.23%  \n",
      "..      ...  \n",
      "244  -0.24%  \n",
      "245  -0.31%  \n",
      "246  -0.51%  \n",
      "247   3.62%  \n",
      "248   0.32%  \n",
      "\n",
      "[249 rows x 9 columns]\n"
     ]
    },
    {
     "ename": "TypeError",
     "evalue": "Could not convert string '2,081.852,077.752,068.852,072.952,078.252,083.002,076.852,011.702,050.402,089.952,097.952,064.402,106.352,093.752,071.202,144.852,094.801,921.701,921.801,917.951,894.601,903.201,896.251,928.351,894.051,907.951,884.501,862.001,855.651,858.101,835.051,762.101,747.651,746.601,792.301,748.651,693.401,725.201,723.651,770.201,765.551,791.401,792.551,795.851,793.201,730.851,712.001,673.051,640.051,612.701,627.451,608.101,611.651,582.001,730.901,726.401,709.001,688.551,702.651,751.751,757.001,755.251,747.401,721.851,760.551,842.151,838.051,855.451,766.651,824.001,904.051,947.051,987.352,018.502,026.702,015.451,940.851,961.101,886.101,897.651,938.451,759.651,726.951,675.451,632.901,615.851,675.401,701.201,698.651,674.151,713.101,731.901,619.001,618.401,641.751,618.701,555.001,518.901,469.351,470.501,459.901,456.101,457.051,438.251,426.251,432.451,454.501,452.701,443.501,423.351,441.201,463.101,461.151,480.451,460.701,471.501,489.451,483.451,456.851,451.051,445.001,437.801,434.951,410.801,417.951,408.951,411.551,399.051,373.501,424.501,424.851,423.401,441.001,479.001,421.001,452.751,617.751,648.501,691.551,570.601,378.051,349.901,358.101,353.451,351.351,353.901,362.301,362.351,381.151,376.051,365.301,380.301,389.251,381.451,371.251,374.351,312.851,311.201,310.401,300.551,301.451,302.251,315.201,330.601,333.351,326.001,320.651,327.951,327.751,331.751,332.201,326.901,328.101,329.501,338.051,336.501,334.651,351.001,355.601,356.901,363.851,376.051,379.301,384.001,383.351,367.051,352.051,338.851,372.851,355.701,397.351,405.351,370.701,367.401,369.801,367.851,370.551,370.851,348.901,379.451,414.851,365.201,368.701,359.751,351.501,344.251,366.501,367.501,369.301,341.751,338.101,341.801,347.051,361.801,377.651,383.551,368.601,384.101,386.801,372.051,323.751,331.351,334.551,336.951,339.801,339.701,335.851,340.701,352.751,345.551,344.851,357.851,371.501,372.951,390.201,376.451,370.951,364.201,351.951,362.151,397.351,400.951,385.051,390.101,397.401,400.751,405.101,412.351,363.05' to numeric",
     "output_type": "error",
     "traceback": [
      "\u001b[1;31m---------------------------------------------------------------------------\u001b[0m",
      "\u001b[1;31mTypeError\u001b[0m                                 Traceback (most recent call last)",
      "Cell \u001b[1;32mIn[37], line 3\u001b[0m\n\u001b[0;32m      1\u001b[0m irctcDF \u001b[38;5;241m=\u001b[39m pd\u001b[38;5;241m.\u001b[39mread_csv(\u001b[38;5;124m'\u001b[39m\u001b[38;5;124mIRCTC.csv\u001b[39m\u001b[38;5;124m'\u001b[39m)\n\u001b[0;32m      2\u001b[0m \u001b[38;5;28mprint\u001b[39m(irctcDF)\n\u001b[1;32m----> 3\u001b[0m \u001b[38;5;28mprint\u001b[39m(irctcDF[\u001b[38;5;124m\"\u001b[39m\u001b[38;5;124mPrice\u001b[39m\u001b[38;5;124m\"\u001b[39m]\u001b[38;5;241m.\u001b[39mmean())\n",
      "File \u001b[1;32mC:\\ProgramData\\anaconda3\\Lib\\site-packages\\pandas\\core\\series.py:6549\u001b[0m, in \u001b[0;36mSeries.mean\u001b[1;34m(self, axis, skipna, numeric_only, **kwargs)\u001b[0m\n\u001b[0;32m   6541\u001b[0m \u001b[38;5;129m@doc\u001b[39m(make_doc(\u001b[38;5;124m\"\u001b[39m\u001b[38;5;124mmean\u001b[39m\u001b[38;5;124m\"\u001b[39m, ndim\u001b[38;5;241m=\u001b[39m\u001b[38;5;241m1\u001b[39m))\n\u001b[0;32m   6542\u001b[0m \u001b[38;5;28;01mdef\u001b[39;00m \u001b[38;5;21mmean\u001b[39m(\n\u001b[0;32m   6543\u001b[0m     \u001b[38;5;28mself\u001b[39m,\n\u001b[1;32m   (...)\u001b[0m\n\u001b[0;32m   6547\u001b[0m     \u001b[38;5;241m*\u001b[39m\u001b[38;5;241m*\u001b[39mkwargs,\n\u001b[0;32m   6548\u001b[0m ):\n\u001b[1;32m-> 6549\u001b[0m     \u001b[38;5;28;01mreturn\u001b[39;00m NDFrame\u001b[38;5;241m.\u001b[39mmean(\u001b[38;5;28mself\u001b[39m, axis, skipna, numeric_only, \u001b[38;5;241m*\u001b[39m\u001b[38;5;241m*\u001b[39mkwargs)\n",
      "File \u001b[1;32mC:\\ProgramData\\anaconda3\\Lib\\site-packages\\pandas\\core\\generic.py:12420\u001b[0m, in \u001b[0;36mNDFrame.mean\u001b[1;34m(self, axis, skipna, numeric_only, **kwargs)\u001b[0m\n\u001b[0;32m  12413\u001b[0m \u001b[38;5;28;01mdef\u001b[39;00m \u001b[38;5;21mmean\u001b[39m(\n\u001b[0;32m  12414\u001b[0m     \u001b[38;5;28mself\u001b[39m,\n\u001b[0;32m  12415\u001b[0m     axis: Axis \u001b[38;5;241m|\u001b[39m \u001b[38;5;28;01mNone\u001b[39;00m \u001b[38;5;241m=\u001b[39m \u001b[38;5;241m0\u001b[39m,\n\u001b[1;32m   (...)\u001b[0m\n\u001b[0;32m  12418\u001b[0m     \u001b[38;5;241m*\u001b[39m\u001b[38;5;241m*\u001b[39mkwargs,\n\u001b[0;32m  12419\u001b[0m ) \u001b[38;5;241m-\u001b[39m\u001b[38;5;241m>\u001b[39m Series \u001b[38;5;241m|\u001b[39m \u001b[38;5;28mfloat\u001b[39m:\n\u001b[1;32m> 12420\u001b[0m     \u001b[38;5;28;01mreturn\u001b[39;00m \u001b[38;5;28mself\u001b[39m\u001b[38;5;241m.\u001b[39m_stat_function(\n\u001b[0;32m  12421\u001b[0m         \u001b[38;5;124m\"\u001b[39m\u001b[38;5;124mmean\u001b[39m\u001b[38;5;124m\"\u001b[39m, nanops\u001b[38;5;241m.\u001b[39mnanmean, axis, skipna, numeric_only, \u001b[38;5;241m*\u001b[39m\u001b[38;5;241m*\u001b[39mkwargs\n\u001b[0;32m  12422\u001b[0m     )\n",
      "File \u001b[1;32mC:\\ProgramData\\anaconda3\\Lib\\site-packages\\pandas\\core\\generic.py:12377\u001b[0m, in \u001b[0;36mNDFrame._stat_function\u001b[1;34m(self, name, func, axis, skipna, numeric_only, **kwargs)\u001b[0m\n\u001b[0;32m  12373\u001b[0m nv\u001b[38;5;241m.\u001b[39mvalidate_func(name, (), kwargs)\n\u001b[0;32m  12375\u001b[0m validate_bool_kwarg(skipna, \u001b[38;5;124m\"\u001b[39m\u001b[38;5;124mskipna\u001b[39m\u001b[38;5;124m\"\u001b[39m, none_allowed\u001b[38;5;241m=\u001b[39m\u001b[38;5;28;01mFalse\u001b[39;00m)\n\u001b[1;32m> 12377\u001b[0m \u001b[38;5;28;01mreturn\u001b[39;00m \u001b[38;5;28mself\u001b[39m\u001b[38;5;241m.\u001b[39m_reduce(\n\u001b[0;32m  12378\u001b[0m     func, name\u001b[38;5;241m=\u001b[39mname, axis\u001b[38;5;241m=\u001b[39maxis, skipna\u001b[38;5;241m=\u001b[39mskipna, numeric_only\u001b[38;5;241m=\u001b[39mnumeric_only\n\u001b[0;32m  12379\u001b[0m )\n",
      "File \u001b[1;32mC:\\ProgramData\\anaconda3\\Lib\\site-packages\\pandas\\core\\series.py:6457\u001b[0m, in \u001b[0;36mSeries._reduce\u001b[1;34m(self, op, name, axis, skipna, numeric_only, filter_type, **kwds)\u001b[0m\n\u001b[0;32m   6452\u001b[0m     \u001b[38;5;66;03m# GH#47500 - change to TypeError to match other methods\u001b[39;00m\n\u001b[0;32m   6453\u001b[0m     \u001b[38;5;28;01mraise\u001b[39;00m \u001b[38;5;167;01mTypeError\u001b[39;00m(\n\u001b[0;32m   6454\u001b[0m         \u001b[38;5;124mf\u001b[39m\u001b[38;5;124m\"\u001b[39m\u001b[38;5;124mSeries.\u001b[39m\u001b[38;5;132;01m{\u001b[39;00mname\u001b[38;5;132;01m}\u001b[39;00m\u001b[38;5;124m does not allow \u001b[39m\u001b[38;5;132;01m{\u001b[39;00mkwd_name\u001b[38;5;132;01m}\u001b[39;00m\u001b[38;5;124m=\u001b[39m\u001b[38;5;132;01m{\u001b[39;00mnumeric_only\u001b[38;5;132;01m}\u001b[39;00m\u001b[38;5;124m \u001b[39m\u001b[38;5;124m\"\u001b[39m\n\u001b[0;32m   6455\u001b[0m         \u001b[38;5;124m\"\u001b[39m\u001b[38;5;124mwith non-numeric dtypes.\u001b[39m\u001b[38;5;124m\"\u001b[39m\n\u001b[0;32m   6456\u001b[0m     )\n\u001b[1;32m-> 6457\u001b[0m \u001b[38;5;28;01mreturn\u001b[39;00m op(delegate, skipna\u001b[38;5;241m=\u001b[39mskipna, \u001b[38;5;241m*\u001b[39m\u001b[38;5;241m*\u001b[39mkwds)\n",
      "File \u001b[1;32mC:\\ProgramData\\anaconda3\\Lib\\site-packages\\pandas\\core\\nanops.py:147\u001b[0m, in \u001b[0;36mbottleneck_switch.__call__.<locals>.f\u001b[1;34m(values, axis, skipna, **kwds)\u001b[0m\n\u001b[0;32m    145\u001b[0m         result \u001b[38;5;241m=\u001b[39m alt(values, axis\u001b[38;5;241m=\u001b[39maxis, skipna\u001b[38;5;241m=\u001b[39mskipna, \u001b[38;5;241m*\u001b[39m\u001b[38;5;241m*\u001b[39mkwds)\n\u001b[0;32m    146\u001b[0m \u001b[38;5;28;01melse\u001b[39;00m:\n\u001b[1;32m--> 147\u001b[0m     result \u001b[38;5;241m=\u001b[39m alt(values, axis\u001b[38;5;241m=\u001b[39maxis, skipna\u001b[38;5;241m=\u001b[39mskipna, \u001b[38;5;241m*\u001b[39m\u001b[38;5;241m*\u001b[39mkwds)\n\u001b[0;32m    149\u001b[0m \u001b[38;5;28;01mreturn\u001b[39;00m result\n",
      "File \u001b[1;32mC:\\ProgramData\\anaconda3\\Lib\\site-packages\\pandas\\core\\nanops.py:404\u001b[0m, in \u001b[0;36m_datetimelike_compat.<locals>.new_func\u001b[1;34m(values, axis, skipna, mask, **kwargs)\u001b[0m\n\u001b[0;32m    401\u001b[0m \u001b[38;5;28;01mif\u001b[39;00m datetimelike \u001b[38;5;129;01mand\u001b[39;00m mask \u001b[38;5;129;01mis\u001b[39;00m \u001b[38;5;28;01mNone\u001b[39;00m:\n\u001b[0;32m    402\u001b[0m     mask \u001b[38;5;241m=\u001b[39m isna(values)\n\u001b[1;32m--> 404\u001b[0m result \u001b[38;5;241m=\u001b[39m func(values, axis\u001b[38;5;241m=\u001b[39maxis, skipna\u001b[38;5;241m=\u001b[39mskipna, mask\u001b[38;5;241m=\u001b[39mmask, \u001b[38;5;241m*\u001b[39m\u001b[38;5;241m*\u001b[39mkwargs)\n\u001b[0;32m    406\u001b[0m \u001b[38;5;28;01mif\u001b[39;00m datetimelike:\n\u001b[0;32m    407\u001b[0m     result \u001b[38;5;241m=\u001b[39m _wrap_results(result, orig_values\u001b[38;5;241m.\u001b[39mdtype, fill_value\u001b[38;5;241m=\u001b[39miNaT)\n",
      "File \u001b[1;32mC:\\ProgramData\\anaconda3\\Lib\\site-packages\\pandas\\core\\nanops.py:720\u001b[0m, in \u001b[0;36mnanmean\u001b[1;34m(values, axis, skipna, mask)\u001b[0m\n\u001b[0;32m    718\u001b[0m count \u001b[38;5;241m=\u001b[39m _get_counts(values\u001b[38;5;241m.\u001b[39mshape, mask, axis, dtype\u001b[38;5;241m=\u001b[39mdtype_count)\n\u001b[0;32m    719\u001b[0m the_sum \u001b[38;5;241m=\u001b[39m values\u001b[38;5;241m.\u001b[39msum(axis, dtype\u001b[38;5;241m=\u001b[39mdtype_sum)\n\u001b[1;32m--> 720\u001b[0m the_sum \u001b[38;5;241m=\u001b[39m _ensure_numeric(the_sum)\n\u001b[0;32m    722\u001b[0m \u001b[38;5;28;01mif\u001b[39;00m axis \u001b[38;5;129;01mis\u001b[39;00m \u001b[38;5;129;01mnot\u001b[39;00m \u001b[38;5;28;01mNone\u001b[39;00m \u001b[38;5;129;01mand\u001b[39;00m \u001b[38;5;28mgetattr\u001b[39m(the_sum, \u001b[38;5;124m\"\u001b[39m\u001b[38;5;124mndim\u001b[39m\u001b[38;5;124m\"\u001b[39m, \u001b[38;5;28;01mFalse\u001b[39;00m):\n\u001b[0;32m    723\u001b[0m     count \u001b[38;5;241m=\u001b[39m cast(np\u001b[38;5;241m.\u001b[39mndarray, count)\n",
      "File \u001b[1;32mC:\\ProgramData\\anaconda3\\Lib\\site-packages\\pandas\\core\\nanops.py:1701\u001b[0m, in \u001b[0;36m_ensure_numeric\u001b[1;34m(x)\u001b[0m\n\u001b[0;32m   1698\u001b[0m \u001b[38;5;28;01melif\u001b[39;00m \u001b[38;5;129;01mnot\u001b[39;00m (is_float(x) \u001b[38;5;129;01mor\u001b[39;00m is_integer(x) \u001b[38;5;129;01mor\u001b[39;00m is_complex(x)):\n\u001b[0;32m   1699\u001b[0m     \u001b[38;5;28;01mif\u001b[39;00m \u001b[38;5;28misinstance\u001b[39m(x, \u001b[38;5;28mstr\u001b[39m):\n\u001b[0;32m   1700\u001b[0m         \u001b[38;5;66;03m# GH#44008, GH#36703 avoid casting e.g. strings to numeric\u001b[39;00m\n\u001b[1;32m-> 1701\u001b[0m         \u001b[38;5;28;01mraise\u001b[39;00m \u001b[38;5;167;01mTypeError\u001b[39;00m(\u001b[38;5;124mf\u001b[39m\u001b[38;5;124m\"\u001b[39m\u001b[38;5;124mCould not convert string \u001b[39m\u001b[38;5;124m'\u001b[39m\u001b[38;5;132;01m{\u001b[39;00mx\u001b[38;5;132;01m}\u001b[39;00m\u001b[38;5;124m'\u001b[39m\u001b[38;5;124m to numeric\u001b[39m\u001b[38;5;124m\"\u001b[39m)\n\u001b[0;32m   1702\u001b[0m     \u001b[38;5;28;01mtry\u001b[39;00m:\n\u001b[0;32m   1703\u001b[0m         x \u001b[38;5;241m=\u001b[39m \u001b[38;5;28mfloat\u001b[39m(x)\n",
      "\u001b[1;31mTypeError\u001b[0m: Could not convert string '2,081.852,077.752,068.852,072.952,078.252,083.002,076.852,011.702,050.402,089.952,097.952,064.402,106.352,093.752,071.202,144.852,094.801,921.701,921.801,917.951,894.601,903.201,896.251,928.351,894.051,907.951,884.501,862.001,855.651,858.101,835.051,762.101,747.651,746.601,792.301,748.651,693.401,725.201,723.651,770.201,765.551,791.401,792.551,795.851,793.201,730.851,712.001,673.051,640.051,612.701,627.451,608.101,611.651,582.001,730.901,726.401,709.001,688.551,702.651,751.751,757.001,755.251,747.401,721.851,760.551,842.151,838.051,855.451,766.651,824.001,904.051,947.051,987.352,018.502,026.702,015.451,940.851,961.101,886.101,897.651,938.451,759.651,726.951,675.451,632.901,615.851,675.401,701.201,698.651,674.151,713.101,731.901,619.001,618.401,641.751,618.701,555.001,518.901,469.351,470.501,459.901,456.101,457.051,438.251,426.251,432.451,454.501,452.701,443.501,423.351,441.201,463.101,461.151,480.451,460.701,471.501,489.451,483.451,456.851,451.051,445.001,437.801,434.951,410.801,417.951,408.951,411.551,399.051,373.501,424.501,424.851,423.401,441.001,479.001,421.001,452.751,617.751,648.501,691.551,570.601,378.051,349.901,358.101,353.451,351.351,353.901,362.301,362.351,381.151,376.051,365.301,380.301,389.251,381.451,371.251,374.351,312.851,311.201,310.401,300.551,301.451,302.251,315.201,330.601,333.351,326.001,320.651,327.951,327.751,331.751,332.201,326.901,328.101,329.501,338.051,336.501,334.651,351.001,355.601,356.901,363.851,376.051,379.301,384.001,383.351,367.051,352.051,338.851,372.851,355.701,397.351,405.351,370.701,367.401,369.801,367.851,370.551,370.851,348.901,379.451,414.851,365.201,368.701,359.751,351.501,344.251,366.501,367.501,369.301,341.751,338.101,341.801,347.051,361.801,377.651,383.551,368.601,384.101,386.801,372.051,323.751,331.351,334.551,336.951,339.801,339.701,335.851,340.701,352.751,345.551,344.851,357.851,371.501,372.951,390.201,376.451,370.951,364.201,351.951,362.151,397.351,400.951,385.051,390.101,397.401,400.751,405.101,412.351,363.05' to numeric"
     ]
    }
   ],
   "source": [
    "irctcDF = pd.read_csv('IRCTC.csv')\n",
    "print(irctcDF)\n",
    "print(irctcDF[\"Price\"].mean())"
   ]
  },
  {
   "cell_type": "code",
   "execution_count": null,
   "id": "43bf686c-27bd-4c27-8177-abee28302b65",
   "metadata": {},
   "outputs": [],
   "source": []
  }
 ],
 "metadata": {
  "kernelspec": {
   "display_name": "Python 3 (ipykernel)",
   "language": "python",
   "name": "python3"
  },
  "language_info": {
   "codemirror_mode": {
    "name": "ipython",
    "version": 3
   },
   "file_extension": ".py",
   "mimetype": "text/x-python",
   "name": "python",
   "nbconvert_exporter": "python",
   "pygments_lexer": "ipython3",
   "version": "3.11.9"
  }
 },
 "nbformat": 4,
 "nbformat_minor": 5
}
