{
 "cells": [
  {
   "cell_type": "code",
   "execution_count": 24,
   "id": "84094461-c4f1-4d00-968b-7d610524a95a",
   "metadata": {},
   "outputs": [
    {
     "name": "stdout",
     "output_type": "stream",
     "text": [
      "           Date  Temp  Wind\n",
      "0    2023-08-06  31.4   3.8\n",
      "1    2023-08-07  31.4   4.0\n",
      "2    2023-08-08  31.6   3.6\n",
      "3    2023-08-09  31.1   2.8\n",
      "4    2023-08-10  30.6   2.5\n",
      "..          ...   ...   ...\n",
      "360  2024-07-31  29.9   3.8\n",
      "361  2024-08-01  29.3   3.8\n",
      "362  2024-08-02  29.4   4.1\n",
      "363  2024-08-03  29.9   3.6\n",
      "364  2024-08-04  31.0   3.5\n",
      "\n",
      "[365 rows x 3 columns]\n",
      "DataFrame saved to thadepalligudem.csv\n"
     ]
    }
   ],
   "source": [
    "import requests\n",
    "\n",
    "def fetch_weather_data(postal_code, country_code, start_date, end_date, api_key):\n",
    "    url = f\"https://api.weatherbit.io/v2.0/history/daily\"\n",
    "    params = {\n",
    "        \"postal_code\": postal_code,\n",
    "        \"country\": country_code,\n",
    "        \"start_date\": start_date,\n",
    "        \"end_date\": end_date,\n",
    "        \"key\": api_key\n",
    "    }\n",
    "    try:\n",
    "        response = requests.get(url, params=params)\n",
    "        response.raise_for_status() \n",
    "        data = response.json()\n",
    "        return data\n",
    "\n",
    "    except requests.exceptions.HTTPError as http_err:\n",
    "        print(f\"HTTP error occurred: {http_err}\")\n",
    "    except Exception as err:\n",
    "        print(f\"Other error occurred: {err}\")\n",
    "\n",
    "    return None\n",
    "\n",
    "\n",
    "api_key = \"API_KEY\"\n",
    "postal_code = '534101'  \n",
    "country_code = 'IN'  \n",
    "start_date = '2023-08-06'  \n",
    "end_date = '2024-08-05'  \n",
    "date=[]\n",
    "temp=[]\n",
    "wind=[]\n",
    "\n",
    "weather_data = fetch_weather_data(postal_code, country_code, start_date, end_date, api_key)\n",
    "n=len(weather_data[\"data\"])\n",
    "if weather_data:\n",
    "    for i in range (n):\n",
    "        date.append(weather_data[\"data\"][i][\"datetime\"])\n",
    "        temp.append(weather_data[\"data\"][i][\"temp\"])\n",
    "        wind.append(weather_data[\"data\"][i][\"wind_spd\"])\n",
    "    \n",
    "else:\n",
    "    print(\"Failed to retrieve weather data.\")\n",
    "\n",
    "import pandas as pd\n",
    "\n",
    "\n",
    "# Create DataFrame\n",
    "df = pd.DataFrame({\n",
    "    'Date': date,\n",
    "    'Temp': temp,\n",
    "    'Wind': wind\n",
    "})\n",
    "\n",
    "print(df)\n",
    "csv_filename = 'thadepalligudem.csv'\n",
    "df.to_csv(csv_filename, index=False)\n",
    "print(f\"DataFrame saved to {csv_filename}\")"
   ]
  },
  {
   "cell_type": "code",
   "execution_count": null,
   "id": "86320023-c0e9-4079-8e91-3df39d94f8d9",
   "metadata": {},
   "outputs": [],
   "source": []
  }
 ],
 "metadata": {
  "kernelspec": {
   "display_name": "Python 3 (ipykernel)",
   "language": "python",
   "name": "python3"
  },
  "language_info": {
   "codemirror_mode": {
    "name": "ipython",
    "version": 3
   },
   "file_extension": ".py",
   "mimetype": "text/x-python",
   "name": "python",
   "nbconvert_exporter": "python",
   "pygments_lexer": "ipython3",
   "version": "3.11.9"
  }
 },
 "nbformat": 4,
 "nbformat_minor": 5
}
