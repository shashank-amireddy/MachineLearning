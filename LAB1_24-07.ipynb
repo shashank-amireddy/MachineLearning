{
 "cells": [
  {
   "cell_type": "code",
   "execution_count": 5,
   "id": "0ba7d258",
   "metadata": {},
   "outputs": [
    {
     "name": "stdout",
     "output_type": "stream",
     "text": [
      "give any stringshashank\n",
      "number of vowels are 2\n",
      "number of consonants are 6\n"
     ]
    }
   ],
   "source": [
    "vowels = ['a','e','i','o','u']\n",
    "text = input(\"give any string: \")\n",
    "v,c=0,0\n",
    "for i in text:\n",
    "    if i in vowels:\n",
    "        v+=1\n",
    "    else:\n",
    "        c+=1\n",
    "print(\"number of vowels are \"+str(v))\n",
    "print(\"number of consonants are \"+str(c))"
   ]
  },
  {
   "cell_type": "code",
   "execution_count": 9,
   "id": "b86a0cae",
   "metadata": {},
   "outputs": [
    {
     "name": "stdout",
     "output_type": "stream",
     "text": [
      "Enter number of rows of matrix13\n",
      "Enter number of cols of matrix13\n",
      "1\n",
      "2\n",
      "3\n",
      "4\n",
      "5\n",
      "6\n",
      "7\n",
      "8\n",
      "9\n",
      "Enter number of rows of matrix23\n",
      "Enter number of cols of matrix23\n",
      "1\n",
      "2\n",
      "3\n",
      "4\n",
      "5\n",
      "6\n",
      "7\n",
      "8\n",
      "9\n",
      "[[30, 36, 42], [66, 81, 96], [102, 126, 150]]\n"
     ]
    }
   ],
   "source": [
    "R1 = int(input(\"Enter number of rows of matrix1\"))\n",
    "C1 = int(input(\"Enter number of cols of matrix1\"))\n",
    "A = [[int(input()) for x in range (C1)] for y in range(R1)]\n",
    "\n",
    "\n",
    "R2 = int(input(\"Enter number of rows of matrix2\"))\n",
    "C2 = int(input(\"Enter number of cols of matrix2\"))\n",
    "B = [[int(input()) for x in range (C2)] for y in range(R2)]\n",
    "\n",
    "if C1 == R2:\n",
    "    result = [[sum(a*b for a,b in zip(A_row,B_col)) for B_col in zip(*B)] for A_row in A]\n",
    "    print(result)\n",
    "else:\n",
    "    print(\"I AM SORRY BUT YOU CAN NOT MULTIPLY THOSE MATRICES\")\n",
    "\n"
   ]
  },
  {
   "cell_type": "code",
   "execution_count": 19,
   "id": "703b46d6",
   "metadata": {},
   "outputs": [
    {
     "name": "stdout",
     "output_type": "stream",
     "text": [
      "number of elements in list 1: 3\n",
      "1\n",
      "1\n",
      "1\n",
      "number of elements in list 2: 1\n",
      "a\n",
      "Number of common elements are 0\n"
     ]
    }
   ],
   "source": [
    "n1 = int(input(\"number of elements in list 1: \"))\n",
    "l1=[]\n",
    "for i in range(n1):\n",
    "    a=input()\n",
    "    l1.append(a)\n",
    "    \n",
    "c=0  \n",
    "n2 = int(input(\"number of elements in list 2: \"))\n",
    "l2=[]\n",
    "for i in range(n2):\n",
    "    a=input()\n",
    "    l2.append(a)\n",
    "    \n",
    "for i in l1:\n",
    "    if i in l2:\n",
    "        c+=1\n",
    "print(\"Number of common elements are\", c)"
   ]
  },
  {
   "cell_type": "code",
   "execution_count": 12,
   "id": "31002e72",
   "metadata": {},
   "outputs": [
    {
     "name": "stdout",
     "output_type": "stream",
     "text": [
      "Enter number of rows of matrix13\n",
      "Enter number of cols of matrix13\n",
      "1\n",
      "2\n",
      "3\n",
      "4\n",
      "5\n",
      "6\n",
      "7\n",
      "8\n",
      "9\n"
     ]
    }
   ],
   "source": [
    "R1 = int(input(\"Enter number of rows of matrix1\"))\n",
    "C1 = int(input(\"Enter number of cols of matrix1\"))\n",
    "A = [[int(input()) for x in range (C1)] for y in range(R1)]\n",
    "t = [list(r) for r in zip(*A)]\n",
    "print(t)"
   ]
  },
  {
   "cell_type": "code",
   "execution_count": null,
   "id": "2509cfde",
   "metadata": {},
   "outputs": [],
   "source": []
  }
 ],
 "metadata": {
  "kernelspec": {
   "display_name": "Python 3 (ipykernel)",
   "language": "python",
   "name": "python3"
  },
  "language_info": {
   "codemirror_mode": {
    "name": "ipython",
    "version": 3
   },
   "file_extension": ".py",
   "mimetype": "text/x-python",
   "name": "python",
   "nbconvert_exporter": "python",
   "pygments_lexer": "ipython3",
   "version": "3.11.5"
  }
 },
 "nbformat": 4,
 "nbformat_minor": 5
}
